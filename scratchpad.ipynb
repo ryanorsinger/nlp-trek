{
 "cells": [
  {
   "cell_type": "code",
   "execution_count": 3,
   "metadata": {},
   "outputs": [],
   "source": [
    "import pandas as pd\n",
    "import re\n",
    "import requests\n",
    "import nltk\n",
    "from bs4 import BeautifulSoup"
   ]
  },
  {
   "cell_type": "code",
   "execution_count": 4,
   "metadata": {},
   "outputs": [],
   "source": [
    "episodes = 'http://www.chakoteya.net/NextGen/episodes.htm'\n",
    "\n",
    "# get all episode links then iterate through each episode for the acquisition"
   ]
  },
  {
   "cell_type": "code",
   "execution_count": null,
   "metadata": {},
   "outputs": [],
   "source": []
  },
  {
   "cell_type": "code",
   "execution_count": 5,
   "metadata": {},
   "outputs": [],
   "source": [
    "url = \"http://www.chakoteya.net/NextGen/101.htm\"\n",
    "\n",
    "response = requests.get(url)\n",
    "raw_html = response.text\n",
    "\n",
    "# Make a soup variable holding the response content\n",
    "soup = BeautifulSoup(response.content, 'html.parser')"
   ]
  },
  {
   "cell_type": "code",
   "execution_count": 10,
   "metadata": {},
   "outputs": [
    {
     "data": {
      "text/plain": [
       "\"\\n\\n\\n\\n\\n\\nThe Next Generation Transcripts - Encounter at Farpoint\\n\\nEncounter\\r\\nat Farpoint\\nStardate:\\r\\n41153.7\\r\\nOriginal Airdate: 28 Sep, 1987\\n\\n\\n\\n\\n\\n\\n \\r\\nCaptain's log, stardate 41153.7. Our destination is planet Deneb Four,\\r\\nbeyond which lies the great unexplored mass of the galaxy. My orders\\r\\nare to examine Farpoint, a starbase built there by the inhabitants of\\r\\nthat world. Meanwhile, I am becoming better acquainted with my new\\r\\ncommand, this Galaxy Class USS Enterprise. I am still somewhat in awe\\r\\nof its size and complexity. As for my crew, we are short in several key\\r\\npositions, most notably a first officer, but I am informed that a\\r\\nhighly experienced man, one Commander William Riker, will be waiting to\\r\\njoin our ship at our Deneb Four destination.\\r\\n\\n[Bridge]\\n\\nPICARD: You will agree, Data, that Starfleet's\\r\\norders are difficult? \\r\\nDATA: Difficult? Simply solve the mystery of Farpoint Statio\""
      ]
     },
     "execution_count": 10,
     "metadata": {},
     "output_type": "execute_result"
    }
   ],
   "source": [
    "content = soup.text\n",
    "content[0:900]"
   ]
  },
  {
   "cell_type": "markdown",
   "metadata": {},
   "source": [
    "### Regex to match character lines\n",
    "- Starts with 1 or more capital letters and ends with \"\\r\\n\""
   ]
  },
  {
   "cell_type": "code",
   "execution_count": 71,
   "metadata": {},
   "outputs": [
    {
     "data": {
      "text/plain": [
       "'Encounter at Farpoint'"
      ]
     },
     "execution_count": 71,
     "metadata": {},
     "output_type": "execute_result"
    }
   ],
   "source": [
    "def get_episode_name(soup):\n",
    "    episode_name = soup.p.contents[0].text\n",
    "    episode_name = episode_name.replace(\"\\n\", \"\")\n",
    "    episode_name = episode_name.replace(\"\\r\", \" \")\n",
    "    return episode_name\n",
    "\n",
    "get_episode_name(soup)"
   ]
  },
  {
   "cell_type": "code",
   "execution_count": 77,
   "metadata": {},
   "outputs": [
    {
     "data": {
      "text/plain": [
       "('Stardate: 41153.7', 'Original Airdate: 28 Sep, 1987')"
      ]
     },
     "execution_count": 77,
     "metadata": {},
     "output_type": "execute_result"
    }
   ],
   "source": [
    "def get_dates(soup):\n",
    "    starting_stardate = soup.p.contents[3].text\n",
    "    parts = starting_stardate.split(\"\\r\\n\")\n",
    "    starting_stardate = \" \".join(parts[0:2])\n",
    "    original_airdate = parts[2].strip()\n",
    "    return {\n",
    "        \"stardate\": starting_stardate, \n",
    "        \"original_airdate\": original_airdate\n",
    "    }\n",
    "\n",
    "\n",
    "dates = get_dates(soup)\n",
    "stardate = dates[\"stardate\"]\n",
    "airdate = dates[\"original_airdate\"]\n",
    "stardate, airdate"
   ]
  },
  {
   "cell_type": "code",
   "execution_count": 79,
   "metadata": {},
   "outputs": [
    {
     "data": {
      "text/plain": [
       "['\\n\\n\\n\\n\\n\\nThe Next Generation Transcripts - Encounter at Farpoint\\n\\nEncounter',\n",
       " 'at Farpoint\\nStardate:',\n",
       " '41153.7',\n",
       " 'Original Airdate: 28 Sep, 1987\\n\\n\\n\\n\\n\\n\\n ',\n",
       " \"Captain's log, stardate 41153.7. Our destination is planet Deneb Four,\",\n",
       " 'beyond which lies the great unexplored mass of the galaxy. My orders',\n",
       " 'are to examine Farpoint, a starbase built there by the inhabitants of',\n",
       " 'that world. Meanwhile, I am becoming better acquainted with my new',\n",
       " 'command, this Galaxy Class USS Enterprise. I am still somewhat in awe',\n",
       " 'of its size and complexity. As for my crew, we are short in several key',\n",
       " 'positions, most notably a first officer, but I am informed that a',\n",
       " 'highly experienced man, one Commander William Riker, will be waiting to',\n",
       " 'join our ship at our Deneb Four destination.',\n",
       " \"\\n[Bridge]\\n\\nPICARD: You will agree, Data, that Starfleet's\",\n",
       " 'orders are difficult? ',\n",
       " 'DATA: Difficult? Simply solve the mystery of Farpoint Station. ',\n",
       " 'PICARD: As simple as that. ',\n",
       " 'TROI: Farpoint Station. Even the name sounds mysterious. ',\n",
       " \"PICARD: It's hardly simple, Data, to negotiate a friendly agreement for\",\n",
       " 'Starfleet to use the base while at the same time snoop around finding']"
      ]
     },
     "execution_count": 79,
     "metadata": {},
     "output_type": "execute_result"
    }
   ],
   "source": [
    "raw_lines = content.split(\"\\r\\n\")\n",
    "raw_lines[0:20]"
   ]
  },
  {
   "cell_type": "code",
   "execution_count": 47,
   "metadata": {},
   "outputs": [],
   "source": [
    "# Write an is_dialog function then iterate to produce a list of dialog lines\n",
    "# For now, ignore captinas logs, actions, and any other expressions"
   ]
  },
  {
   "cell_type": "code",
   "execution_count": 61,
   "metadata": {},
   "outputs": [],
   "source": [
    "def is_dialog(string):\n",
    "    \"\"\"\n",
    "    Dialog lines start with one or more strings of all capitals and end with\n",
    "    \"\"\"\n",
    "    return bool(re.search(r'^[A-Z]*:?', string))"
   ]
  },
  {
   "cell_type": "code",
   "execution_count": 64,
   "metadata": {},
   "outputs": [],
   "source": [
    "def get_character(string):\n",
    "    \"\"\"\n",
    "    Takes in a dialog string and returns the \n",
    "    \"\"\"\n",
    "    return string.split(\":\")[0]\n",
    "\n",
    "assert get_character('RIKER: Construction records? ') == \"RIKER\"\n",
    "assert get_character(\"WORF: We've been trying, sir. No response. \") == \"WORF\""
   ]
  },
  {
   "cell_type": "code",
   "execution_count": null,
   "metadata": {},
   "outputs": [],
   "source": []
  },
  {
   "cell_type": "code",
   "execution_count": null,
   "metadata": {},
   "outputs": [],
   "source": [
    "# actions start and end with \"(\" and end with \") \"\n",
    "def is_action(string):\n",
    "    "
   ]
  }
 ],
 "metadata": {
  "kernelspec": {
   "display_name": "Python 3",
   "language": "python",
   "name": "python3"
  },
  "language_info": {
   "codemirror_mode": {
    "name": "ipython",
    "version": 3
   },
   "file_extension": ".py",
   "mimetype": "text/x-python",
   "name": "python",
   "nbconvert_exporter": "python",
   "pygments_lexer": "ipython3",
   "version": "3.8.5"
  }
 },
 "nbformat": 4,
 "nbformat_minor": 4
}
